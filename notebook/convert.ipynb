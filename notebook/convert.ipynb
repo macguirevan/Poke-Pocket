{
 "cells": [
  {
   "cell_type": "code",
   "execution_count": 1,
   "id": "939438c7",
   "metadata": {},
   "outputs": [],
   "source": [
    "import pandas as pd\n",
    "import json\n",
    "import mysql.connector as mysqldb\n",
    "from mysql.connector import errorcode"
   ]
  },
  {
   "cell_type": "code",
   "execution_count": 2,
   "id": "fd47138d",
   "metadata": {},
   "outputs": [],
   "source": [
    "# Map rarity strings to integers (adjust as needed)\n",
    "rarity_map = {\n",
    "  'Promo': 0,\n",
    "  'Common': 1,\n",
    "  'Uncommon': 2,\n",
    "  'Rare': 3,\n",
    "  'Double Rare': 4,\n",
    "  'Art Rare': 5,\n",
    "  'Special Art Rare': 6,\n",
    "  'Immersive Rare': 7,\n",
    "  'Crown Rare': 8,\n",
    "}"
   ]
  },
  {
   "cell_type": "code",
   "execution_count": 3,
   "id": "9105e4cb",
   "metadata": {},
   "outputs": [],
   "source": [
    "# Read CSV\n",
    "df = pd.read_csv('data/cards.csv')"
   ]
  },
  {
   "cell_type": "code",
   "execution_count": 4,
   "metadata": {},
   "outputs": [],
   "source": [
    "# Convert rarity to int\n",
    "df['rarity'] = df['rarity'].map(rarity_map)"
   ]
  },
  {
   "cell_type": "code",
   "execution_count": 5,
   "id": "f320d3c5",
   "metadata": {},
   "outputs": [],
   "source": [
    "# Rename columns to match DB\n",
    "df.rename(columns={\n",
    "  'name': 'name',\n",
    "  'set': 'set_name',\n",
    "  'rarity': 'rarity',\n",
    "  'link': 'card_image'\n",
    "}, inplace=True)"
   ]
  },
  {
   "cell_type": "code",
   "execution_count": 6,
   "id": "c4e1d9e3",
   "metadata": {},
   "outputs": [],
   "source": [
    "# Drop the CSV index column\n",
    "df.drop(columns=['Unnamed: 0'], inplace=True)"
   ]
  },
  {
   "cell_type": "code",
   "execution_count": 7,
   "id": "b278d721",
   "metadata": {},
   "outputs": [],
   "source": [
    "# Convert to list of dicts for JSON\n",
    "cards_json = df.to_dict(orient='records')"
   ]
  },
  {
   "cell_type": "code",
   "execution_count": 8,
   "metadata": {},
   "outputs": [],
   "source": [
    "# Save JSON to file (optional)\n",
    "with open('data/cards.json', 'w') as f:\n",
    "  json.dump(cards_json, f, indent=2)"
   ]
  }
 ],
 "metadata": {
  "kernelspec": {
   "display_name": "Python 3",
   "language": "python",
   "name": "python3"
  },
  "language_info": {
   "codemirror_mode": {
    "name": "ipython",
    "version": 3
   },
   "file_extension": ".py",
   "mimetype": "text/x-python",
   "name": "python",
   "nbconvert_exporter": "python",
   "pygments_lexer": "ipython3",
   "version": "3.12.1"
  }
 },
 "nbformat": 4,
 "nbformat_minor": 5
}
