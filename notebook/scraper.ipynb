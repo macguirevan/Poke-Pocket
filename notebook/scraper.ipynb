{
 "cells": [
  {
   "cell_type": "code",
   "execution_count": 1,
   "metadata": {},
   "outputs": [],
   "source": [
    "from selenium import webdriver\n",
    "from selenium.webdriver.chrome.service import Service\n",
    "from selenium.webdriver.common.by import By\n",
    "from webdriver_manager.chrome import ChromeDriverManager\n",
    "from selenium.webdriver.support.ui import WebDriverWait\n",
    "from selenium.webdriver.support import expected_conditions as EC"
   ]
  },
  {
   "cell_type": "code",
   "execution_count": 2,
   "metadata": {},
   "outputs": [],
   "source": [
    "import pandas as pd"
   ]
  },
  {
   "cell_type": "code",
   "execution_count": 3,
   "metadata": {},
   "outputs": [],
   "source": [
    "options = webdriver.ChromeOptions()"
   ]
  },
  {
   "cell_type": "code",
   "execution_count": 4,
   "metadata": {},
   "outputs": [],
   "source": [
    "driver = webdriver.Chrome(service=Service(ChromeDriverManager().install()), options=options)"
   ]
  },
  {
   "cell_type": "code",
   "execution_count": 5,
   "metadata": {},
   "outputs": [],
   "source": [
    "url = \"https://pocket.pokemongohub.net/en\""
   ]
  },
  {
   "cell_type": "code",
   "execution_count": 6,
   "metadata": {},
   "outputs": [],
   "source": [
    "driver.get(url)"
   ]
  },
  {
   "cell_type": "code",
   "execution_count": 7,
   "metadata": {},
   "outputs": [],
   "source": [
    "df = pd.DataFrame(columns=['name', 'rarity', 'link'])"
   ]
  },
  {
   "cell_type": "code",
   "execution_count": 8,
   "metadata": {},
   "outputs": [],
   "source": [
    "set_list = WebDriverWait(driver,10).until(\n",
    "  EC.presence_of_element_located((By.XPATH, \"/html/body/main/div/section/section[1]/ul\"))\n",
    ")\n",
    "\n",
    "sets = [li.find_element(By.TAG_NAME, 'a').get_attribute('href') for li in set_list.find_elements(By.XPATH, \"./li\")]"
   ]
  },
  {
   "cell_type": "code",
   "execution_count": 9,
   "metadata": {},
   "outputs": [],
   "source": [
    "for set in sets:\n",
    "  driver.get(set)\n",
    "\n",
    "  ul_element = WebDriverWait(driver,10).until(\n",
    "    EC.presence_of_element_located((By.XPATH, \"/html/body/main/div/div[2]/div[2]/ul\"))\n",
    "  )\n",
    "  \n",
    "  li_elements = [li.find_element(By.TAG_NAME, 'a').get_attribute('href') for li in ul_element.find_elements(By.XPATH, \"./li\")]\n",
    "\n",
    "  for link in li_elements:\n",
    "    driver.get(link)\n",
    "    name = WebDriverWait(driver, 10).until(\n",
    "      EC.presence_of_element_located((By.XPATH, \"/html/body/main/div/section[1]/header/h1\"))\n",
    "    )\n",
    "    rarity = WebDriverWait(driver,10).until(\n",
    "      EC.presence_of_element_located((By.XPATH, \"//th[text()='Rarity description']/following-sibling::td\"))\n",
    "    )\n",
    "    link = WebDriverWait(driver, 10).until(\n",
    "      EC.presence_of_element_located((By.XPATH, \"/html/body/main/div/section[1]/section[1]/div/img[1]\"))\n",
    "    )\n",
    "    df.loc[len(df)] = {\n",
    "      'name': name.text,\n",
    "      'rarity': rarity.text,\n",
    "      'link': link.get_attribute('src')\n",
    "    }"
   ]
  },
  {
   "cell_type": "code",
   "execution_count": 10,
   "metadata": {},
   "outputs": [],
   "source": [
    "driver.quit()"
   ]
  },
  {
   "cell_type": "code",
   "execution_count": 11,
   "metadata": {},
   "outputs": [],
   "source": [
    "df.to_csv(\"data/cards.csv\")"
   ]
  },
  {
   "cell_type": "code",
   "execution_count": null,
   "metadata": {},
   "outputs": [],
   "source": []
  }
 ],
 "metadata": {
  "kernelspec": {
   "display_name": "Python 3",
   "language": "python",
   "name": "python3"
  },
  "language_info": {
   "codemirror_mode": {
    "name": "ipython",
    "version": 3
   },
   "file_extension": ".py",
   "mimetype": "text/x-python",
   "name": "python",
   "nbconvert_exporter": "python",
   "pygments_lexer": "ipython3",
   "version": "3.12.1"
  }
 },
 "nbformat": 4,
 "nbformat_minor": 2
}
